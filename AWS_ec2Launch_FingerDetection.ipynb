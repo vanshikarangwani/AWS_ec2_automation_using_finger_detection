{
 "cells": [
  {
   "cell_type": "code",
   "execution_count": 1,
   "id": "8984881e",
   "metadata": {},
   "outputs": [],
   "source": [
    "import cv2"
   ]
  },
  {
   "cell_type": "code",
   "execution_count": 2,
   "id": "f0821a22",
   "metadata": {},
   "outputs": [],
   "source": [
    "import boto3"
   ]
  },
  {
   "cell_type": "code",
   "execution_count": 3,
   "id": "9260124c",
   "metadata": {},
   "outputs": [],
   "source": [
    "import time"
   ]
  },
  {
   "cell_type": "code",
   "execution_count": 4,
   "id": "3b211c80",
   "metadata": {},
   "outputs": [
    {
     "name": "stdout",
     "output_type": "stream",
     "text": [
      "Requirement already satisfied: mediapipe in c:\\users\\vanshu\\appdata\\roaming\\python\\python310\\site-packages (0.10.3)\n",
      "Requirement already satisfied: numpy in c:\\users\\vanshu\\anaconda3\\lib\\site-packages (from mediapipe) (1.23.5)\n",
      "Requirement already satisfied: sounddevice>=0.4.4 in c:\\users\\vanshu\\appdata\\roaming\\python\\python310\\site-packages (from mediapipe) (0.4.6)\n",
      "Requirement already satisfied: flatbuffers>=2.0 in c:\\users\\vanshu\\anaconda3\\lib\\site-packages (from mediapipe) (23.5.26)\n",
      "Requirement already satisfied: opencv-contrib-python in c:\\users\\vanshu\\appdata\\roaming\\python\\python310\\site-packages (from mediapipe) (4.8.0.76)\n",
      "Requirement already satisfied: attrs>=19.1.0 in c:\\users\\vanshu\\anaconda3\\lib\\site-packages (from mediapipe) (22.1.0)\n",
      "Requirement already satisfied: matplotlib in c:\\users\\vanshu\\anaconda3\\lib\\site-packages (from mediapipe) (3.7.0)\n",
      "Requirement already satisfied: absl-py in c:\\users\\vanshu\\appdata\\roaming\\python\\python310\\site-packages (from mediapipe) (1.4.0)\n",
      "Requirement already satisfied: protobuf<4,>=3.11 in c:\\users\\vanshu\\anaconda3\\lib\\site-packages (from mediapipe) (3.20.3)\n",
      "Requirement already satisfied: CFFI>=1.0 in c:\\users\\vanshu\\anaconda3\\lib\\site-packages (from sounddevice>=0.4.4->mediapipe) (1.15.1)\n",
      "Requirement already satisfied: packaging>=20.0 in c:\\users\\vanshu\\anaconda3\\lib\\site-packages (from matplotlib->mediapipe) (22.0)\n",
      "Requirement already satisfied: contourpy>=1.0.1 in c:\\users\\vanshu\\anaconda3\\lib\\site-packages (from matplotlib->mediapipe) (1.0.5)\n",
      "Requirement already satisfied: kiwisolver>=1.0.1 in c:\\users\\vanshu\\anaconda3\\lib\\site-packages (from matplotlib->mediapipe) (1.4.4)\n",
      "Requirement already satisfied: pyparsing>=2.3.1 in c:\\users\\vanshu\\anaconda3\\lib\\site-packages (from matplotlib->mediapipe) (3.0.9)\n",
      "Requirement already satisfied: cycler>=0.10 in c:\\users\\vanshu\\anaconda3\\lib\\site-packages (from matplotlib->mediapipe) (0.11.0)\n",
      "Requirement already satisfied: pillow>=6.2.0 in c:\\users\\vanshu\\anaconda3\\lib\\site-packages (from matplotlib->mediapipe) (9.4.0)\n",
      "Requirement already satisfied: fonttools>=4.22.0 in c:\\users\\vanshu\\anaconda3\\lib\\site-packages (from matplotlib->mediapipe) (4.25.0)\n",
      "Requirement already satisfied: python-dateutil>=2.7 in c:\\users\\vanshu\\anaconda3\\lib\\site-packages (from matplotlib->mediapipe) (2.8.2)\n",
      "Requirement already satisfied: pycparser in c:\\users\\vanshu\\anaconda3\\lib\\site-packages (from CFFI>=1.0->sounddevice>=0.4.4->mediapipe) (2.21)\n",
      "Requirement already satisfied: six>=1.5 in c:\\users\\vanshu\\anaconda3\\lib\\site-packages (from python-dateutil>=2.7->matplotlib->mediapipe) (1.16.0)\n",
      "Note: you may need to restart the kernel to use updated packages.\n"
     ]
    }
   ],
   "source": [
    "pip install mediapipe"
   ]
  },
  {
   "cell_type": "code",
   "execution_count": 5,
   "id": "95ea0fe2",
   "metadata": {},
   "outputs": [],
   "source": [
    "from cvzone.HandTrackingModule import HandDetector"
   ]
  },
  {
   "cell_type": "code",
   "execution_count": 6,
   "id": "c50e56f1",
   "metadata": {},
   "outputs": [],
   "source": [
    "ec2 = boto3.resource('ec2')\n",
    "elb = boto3.client('elbv2')\n",
    "allOS=[]"
   ]
  },
  {
   "cell_type": "code",
   "execution_count": 7,
   "id": "9911614a",
   "metadata": {},
   "outputs": [],
   "source": [
    "def LaunchOS():\n",
    "    instances=ec2.create_instances(\n",
    "        ImageId=\"ami-0da59f1af71ea4ad2\",\n",
    "        MinCount=1,\n",
    "        MaxCount=1,\n",
    "        InstanceType=\"t2.micro\",\n",
    "        SecurityGroupIds= ['sg-03e07fad3c92c8384',],\n",
    "    )\n",
    "    \n",
    "    OSid = instances[0].id\n",
    "    allOS.append(OSid)\n",
    "    \n",
    "    time.sleep(30)\n",
    "    \n",
    "    # print(allOS)\n",
    "    print(\"Total OS : \" , len(allOS))"
   ]
  },
  {
   "cell_type": "code",
   "execution_count": 8,
   "id": "0f0debd9",
   "metadata": {},
   "outputs": [],
   "source": [
    "def TerminateOS():\n",
    "    if allOS:\n",
    "        myos = allOS.pop()\n",
    "        response = ec2.instances.filter(InstanceIds=[myos]).terminate()\n",
    "        \n",
    "\n",
    "        \n",
    "        print(\"Remaining OS : \" , len(allOS))\n",
    "        return response\n",
    "    else:\n",
    "        print(\"no more OS is Running\")"
   ]
  },
  {
   "cell_type": "code",
   "execution_count": 9,
   "id": "3f4cdd25",
   "metadata": {},
   "outputs": [],
   "source": [
    "detector = HandDetector(maxHands=1,\n",
    "                        detectionCon=0.8)"
   ]
  },
  {
   "cell_type": "code",
   "execution_count": 10,
   "id": "f58b1aad",
   "metadata": {},
   "outputs": [],
   "source": [
    "cap = cv2.VideoCapture(0)"
   ]
  },
  {
   "cell_type": "code",
   "execution_count": null,
   "id": "f8f48628",
   "metadata": {},
   "outputs": [],
   "source": [
    "while True:\n",
    "    ret,img = cap.read()\n",
    "    cv2.imshow(\"Img\" , img)\n",
    "    if cv2.waitKey(1000) == 13:\n",
    "        break\n",
    "        \n",
    "    hand = detector.findHands(img , draw=False)\n",
    "    if hand:\n",
    "        lmlist = hand[0]\n",
    "        if lmlist:\n",
    "            fingerup = detector.fingersUp(lmlist)\n",
    "            print(fingerup)\n",
    "            if fingerup == [0, 1, 0, 0, 0]:\n",
    "                print(\"sec finger ..\")\n",
    "                TerminateOS()\n",
    "            \n",
    "            elif fingerup == [0, 1, 1, 0, 0]:\n",
    "                print(\"2 and 3 finger ..\")\n",
    "                LaunchOS()\n",
    "\n",
    "cv2.destroyAllWindows"
   ]
  },
  {
   "cell_type": "code",
   "execution_count": null,
   "id": "21bd4a9a",
   "metadata": {},
   "outputs": [],
   "source": [
    "cap.release"
   ]
  },
  {
   "cell_type": "code",
   "execution_count": null,
   "id": "4f375128",
   "metadata": {},
   "outputs": [],
   "source": []
  },
  {
   "cell_type": "code",
   "execution_count": null,
   "id": "a6cb84b0",
   "metadata": {},
   "outputs": [],
   "source": []
  }
 ],
 "metadata": {
  "kernelspec": {
   "display_name": "Python 3 (ipykernel)",
   "language": "python",
   "name": "python3"
  },
  "language_info": {
   "codemirror_mode": {
    "name": "ipython",
    "version": 3
   },
   "file_extension": ".py",
   "mimetype": "text/x-python",
   "name": "python",
   "nbconvert_exporter": "python",
   "pygments_lexer": "ipython3",
   "version": "3.10.9"
  }
 },
 "nbformat": 4,
 "nbformat_minor": 5
}
